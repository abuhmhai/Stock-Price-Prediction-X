{
  "nbformat": 4,
  "nbformat_minor": 0,
  "metadata": {
    "colab": {
      "name": "ARIMA_Model.ipynb",
      "provenance": [],
      "collapsed_sections": [],
      "mount_file_id": "1n3W-8OZXXdYm3NEYlLEM2u3Y51t8_Jav",
      "authorship_tag": "ABX9TyPpyFsvJxIabvD1WbknBzRi",
      "include_colab_link": true
    },
    "kernelspec": {
      "name": "python3",
      "display_name": "Python 3"
    }
  },
  "cells": [
    {
      "cell_type": "markdown",
      "metadata": {
        "id": "view-in-github",
        "colab_type": "text"
      },
      "source": [
        "<a href=\"https://colab.research.google.com/github/amanjain252002/Stock-Price-Prediction/blob/main/ARIMA_Model.ipynb\" target=\"_parent\"><img src=\"https://colab.research.google.com/assets/colab-badge.svg\" alt=\"Open In Colab\"/></a>"
      ]
    },
    {
      "cell_type": "code",
      "metadata": {
        "id": "_-qNpaWK9cI2"
      },
      "source": [
        "!pip install pmdarima"
      ],
      "execution_count": null,
      "outputs": []
    },
    {
      "cell_type": "code",
      "metadata": {
        "id": "Rhpi0R3g7GdO"
      },
      "source": [
        "import math\r\n",
        "import numpy as np\r\n",
        "import pandas as pd\r\n",
        "import matplotlib.pyplot as plt\r\n",
        "\r\n",
        "from statsmodels.tsa.stattools import adfuller\r\n",
        "from statsmodels.tsa.arima_model import ARIMA\r\n",
        "\r\n",
        "from pmdarima.arima import auto_arima\r\n",
        "from sklearn.metrics import mean_squared_error, mean_absolute_error\r\n",
        "\r\n",
        "import warnings\r\n",
        "warnings.filterwarnings('ignore')"
      ],
      "execution_count": 2,
      "outputs": []
    },
    {
      "cell_type": "code",
      "metadata": {
        "id": "dkISue9H9LUn"
      },
      "source": [
        "AAPL = pd.read_csv(\"/content/drive/MyDrive/Database/Pre_Processed_AAPL.csv\")\r\n",
        "TSLA = pd.read_csv(\"/content/drive/MyDrive/Database/Pre_Processed_TSLA.csv\")\r\n",
        "GOOG = pd.read_csv(\"/content/drive/MyDrive/Database/Pre_Processed_GOOG.csv\")\r\n",
        "MSFT = pd.read_csv(\"/content/drive/MyDrive/Database/Pre_Processed_MSFT.csv\")\r\n",
        "AMZN = pd.read_csv(\"/content/drive/MyDrive/Database/Pre_Processed_AMZN.csv\")"
      ],
      "execution_count": 3,
      "outputs": []
    },
    {
      "cell_type": "markdown",
      "metadata": {
        "id": "M9SHWv1OGe6T"
      },
      "source": [
        "The Dickey-Fuller test is one of the most popular statistical tests. It can be used to determine the presence of unit root in the series and help us understand if the series is stationary.\r\n",
        "\r\n",
        "**Null Hypothesis**: The series has a unit root\r\n",
        "\r\n",
        "**Alternate Hypothesis**: The series has no unit root.\r\n",
        "\r\n",
        "If we fail to reject the Null Hypothesis, then the series is non-stationary."
      ]
    },
    {
      "cell_type": "code",
      "metadata": {
        "id": "JVVghS_J-alF"
      },
      "source": [
        "def Test_Stationarity(timeseries):\r\n",
        "  result = adfuller(timeseries['Adj. Close'], autolag = 'AIC')\r\n",
        "  print(\"Results of Dickey Fuller Test\")\r\n",
        "  print(f'Test Statistics: {result[0]}')\r\n",
        "  print(f'p-value: {result[1]}')\r\n",
        "  print(f'Number of lags used: {result[2]}')\r\n",
        "  print(f'Number of observations used: {result[3]}')\r\n",
        "  for key, value in result[4].items():\r\n",
        "    print(f'critical value ({key}): {value}')"
      ],
      "execution_count": 4,
      "outputs": []
    },
    {
      "cell_type": "markdown",
      "metadata": {
        "id": "4qeGKFCsyrfX"
      },
      "source": [
        "#Apple"
      ]
    },
    {
      "cell_type": "code",
      "metadata": {
        "colab": {
          "base_uri": "https://localhost:8080/",
          "height": 195
        },
        "id": "VVTvtUnT-MVb",
        "outputId": "ecf79b8c-553e-4c19-9d1d-8d9bffc55205"
      },
      "source": [
        "AAPL.head()"
      ],
      "execution_count": 5,
      "outputs": [
        {
          "output_type": "execute_result",
          "data": {
            "text/html": [
              "<div>\n",
              "<style scoped>\n",
              "    .dataframe tbody tr th:only-of-type {\n",
              "        vertical-align: middle;\n",
              "    }\n",
              "\n",
              "    .dataframe tbody tr th {\n",
              "        vertical-align: top;\n",
              "    }\n",
              "\n",
              "    .dataframe thead th {\n",
              "        text-align: right;\n",
              "    }\n",
              "</style>\n",
              "<table border=\"1\" class=\"dataframe\">\n",
              "  <thead>\n",
              "    <tr style=\"text-align: right;\">\n",
              "      <th></th>\n",
              "      <th>Date</th>\n",
              "      <th>Open</th>\n",
              "      <th>High</th>\n",
              "      <th>Low</th>\n",
              "      <th>Close</th>\n",
              "      <th>Adj. Close</th>\n",
              "      <th>Volume</th>\n",
              "    </tr>\n",
              "  </thead>\n",
              "  <tbody>\n",
              "    <tr>\n",
              "      <th>0</th>\n",
              "      <td>2015-01-02</td>\n",
              "      <td>27.85</td>\n",
              "      <td>27.86</td>\n",
              "      <td>26.84</td>\n",
              "      <td>27.33</td>\n",
              "      <td>24.86</td>\n",
              "      <td>212818400.0</td>\n",
              "    </tr>\n",
              "    <tr>\n",
              "      <th>1</th>\n",
              "      <td>2015-01-05</td>\n",
              "      <td>27.07</td>\n",
              "      <td>27.16</td>\n",
              "      <td>26.35</td>\n",
              "      <td>26.56</td>\n",
              "      <td>24.16</td>\n",
              "      <td>257142000.0</td>\n",
              "    </tr>\n",
              "    <tr>\n",
              "      <th>2</th>\n",
              "      <td>2015-01-06</td>\n",
              "      <td>26.64</td>\n",
              "      <td>26.86</td>\n",
              "      <td>26.16</td>\n",
              "      <td>26.57</td>\n",
              "      <td>24.16</td>\n",
              "      <td>263188400.0</td>\n",
              "    </tr>\n",
              "    <tr>\n",
              "      <th>3</th>\n",
              "      <td>2015-01-07</td>\n",
              "      <td>26.80</td>\n",
              "      <td>27.05</td>\n",
              "      <td>26.67</td>\n",
              "      <td>26.94</td>\n",
              "      <td>24.50</td>\n",
              "      <td>160423600.0</td>\n",
              "    </tr>\n",
              "    <tr>\n",
              "      <th>4</th>\n",
              "      <td>2015-01-08</td>\n",
              "      <td>27.31</td>\n",
              "      <td>28.04</td>\n",
              "      <td>27.17</td>\n",
              "      <td>27.97</td>\n",
              "      <td>25.44</td>\n",
              "      <td>237458000.0</td>\n",
              "    </tr>\n",
              "  </tbody>\n",
              "</table>\n",
              "</div>"
            ],
            "text/plain": [
              "         Date   Open   High    Low  Close  Adj. Close       Volume\n",
              "0  2015-01-02  27.85  27.86  26.84  27.33       24.86  212818400.0\n",
              "1  2015-01-05  27.07  27.16  26.35  26.56       24.16  257142000.0\n",
              "2  2015-01-06  26.64  26.86  26.16  26.57       24.16  263188400.0\n",
              "3  2015-01-07  26.80  27.05  26.67  26.94       24.50  160423600.0\n",
              "4  2015-01-08  27.31  28.04  27.17  27.97       25.44  237458000.0"
            ]
          },
          "metadata": {
            "tags": []
          },
          "execution_count": 5
        }
      ]
    },
    {
      "cell_type": "code",
      "metadata": {
        "colab": {
          "base_uri": "https://localhost:8080/"
        },
        "id": "wuisU-jvHlV_",
        "outputId": "d5349759-1718-4703-8355-7d9f83bde793"
      },
      "source": [
        "AAPL.info()"
      ],
      "execution_count": 6,
      "outputs": [
        {
          "output_type": "stream",
          "text": [
            "<class 'pandas.core.frame.DataFrame'>\n",
            "RangeIndex: 1549 entries, 0 to 1548\n",
            "Data columns (total 7 columns):\n",
            " #   Column      Non-Null Count  Dtype  \n",
            "---  ------      --------------  -----  \n",
            " 0   Date        1549 non-null   object \n",
            " 1   Open        1549 non-null   float64\n",
            " 2   High        1549 non-null   float64\n",
            " 3   Low         1549 non-null   float64\n",
            " 4   Close       1549 non-null   float64\n",
            " 5   Adj. Close  1549 non-null   float64\n",
            " 6   Volume      1549 non-null   float64\n",
            "dtypes: float64(6), object(1)\n",
            "memory usage: 84.8+ KB\n"
          ],
          "name": "stdout"
        }
      ]
    },
    {
      "cell_type": "code",
      "metadata": {
        "id": "cMpcNnJH-H7f"
      },
      "source": [
        "# Change Dtype of Date column\r\n",
        "AAPL[\"Date\"] = pd.to_datetime(AAPL[\"Date\"])"
      ],
      "execution_count": 7,
      "outputs": []
    },
    {
      "cell_type": "code",
      "metadata": {
        "colab": {
          "base_uri": "https://localhost:8080/"
        },
        "id": "kH2oGK37-S7Y",
        "outputId": "5ed5c966-879b-496a-c3fe-3e1c53e569b6"
      },
      "source": [
        "Test_Stationarity(AAPL)"
      ],
      "execution_count": 8,
      "outputs": [
        {
          "output_type": "stream",
          "text": [
            "Results of Dickey Fuller Test\n",
            "Test Statistics: 1.120722206443355\n",
            "p-value: 0.9953896550774386\n",
            "Number of lags used: 24\n",
            "Number of observations used: 1524\n",
            "critical value (1%): -3.4346481290263013\n",
            "critical value (5%): -2.8634383565975736\n",
            "critical value (10%): -2.567780658251872\n"
          ],
          "name": "stdout"
        }
      ]
    },
    {
      "cell_type": "markdown",
      "metadata": {
        "id": "XA4ZLgJtIiKK"
      },
      "source": [
        "The p-value > 0.05, so we cannot reject the Null hypothesis. Hence, we would need to use the “Integrated (I)” concept, denoted by value ‘d’ in time series, to make the data stationary while building the Auto ARIMA model."
      ]
    },
    {
      "cell_type": "markdown",
      "metadata": {
        "id": "ef-Xz6gHLiKA"
      },
      "source": [
        "Now let's take log of the 'Adj. Close' column to reduce the magnitude of the values and reduce the series rising trend."
      ]
    },
    {
      "cell_type": "code",
      "metadata": {
        "colab": {
          "base_uri": "https://localhost:8080/",
          "height": 367
        },
        "id": "r1NMAJkTiC9s",
        "outputId": "79d665bc-d372-4cc9-a01c-9b6c86e58023"
      },
      "source": [
        "AAPL['log Adj. Close'] = np.log(AAPL['Adj. Close'])\r\n",
        "AAPL_log_moving_avg = AAPL['log Adj. Close'].rolling(12).mean()\r\n",
        "AAPL_log_std = AAPL['log Adj. Close'].rolling(12).std()\r\n",
        "\r\n",
        "plt.figure(figsize = (10, 5))\r\n",
        "plt.plot(AAPL['Date'], AAPL_log_moving_avg, label = \"Rolling Mean\")\r\n",
        "plt.plot(AAPL['Date'], AAPL_log_std, label = \"Rolling Std\")\r\n",
        "plt.xlabel('Time')\r\n",
        "plt.ylabel('log Adj. Close')\r\n",
        "plt.legend(loc = 'best')\r\n",
        "plt.title(\"Rolling Mean and Standard Deviation\")"
      ],
      "execution_count": 9,
      "outputs": [
        {
          "output_type": "execute_result",
          "data": {
            "text/plain": [
              "Text(0.5, 1.0, 'Rolling Mean and Standard Deviation')"
            ]
          },
          "metadata": {
            "tags": []
          },
          "execution_count": 9
        },
        {
          "output_type": "display_data",
          "data": {
            "image/png": "[encoded data removed]",
            "text/plain": [
              "<Figure size 720x360 with 1 Axes>"
            ]
          },
          "metadata": {
            "tags": [],
            "needs_background": "light"
          }
        }
      ]
    },
    {
      "cell_type": "markdown",
      "metadata": {
        "id": "AG_0TS7PL34W"
      },
      "source": [
        "###Split the data into training and test set\r\n",
        "\r\n",
        "    Training Period: 2015-01-02 - 2020-09-30\r\n",
        "\r\n",
        "    Testing Period:  2020-10-01 - 2021-02-26\r\n",
        "\r\n",
        "\r\n",
        "\r\n",
        "\r\n",
        "\r\n"
      ]
    },
    {
      "cell_type": "code",
      "metadata": {
        "colab": {
          "base_uri": "https://localhost:8080/",
          "height": 351
        },
        "id": "5-gIeq0bDrFz",
        "outputId": "157d09b0-9337-435b-b689-713b0361397a"
      },
      "source": [
        "AAPL_Train_Data = AAPL[AAPL['Date'] < '2020-10-01']\r\n",
        "AAPL_Test_Data = AAPL[AAPL['Date'] >= '2020-10-01'].reset_index(drop = True)\r\n",
        "\r\n",
        "plt.figure(figsize = (10, 5))\r\n",
        "plt.plot(AAPL_Train_Data['Date'], AAPL_Train_Data['log Adj. Close'], label = 'Train Data')\r\n",
        "plt.plot(AAPL_Test_Data['Date'], AAPL_Test_Data['log Adj. Close'], label = 'Test Data')\r\n",
        "plt.xlabel('Time')\r\n",
        "plt.ylabel('log Adj. Close')\r\n",
        "plt.legend(loc = 'best')"
      ],
      "execution_count": 10,
      "outputs": [
        {
          "output_type": "execute_result",
          "data": {
            "text/plain": [
              "<matplotlib.legend.Legend at 0x7ff61c2f5cd0>"
            ]
          },
          "metadata": {
            "tags": []
          },
          "execution_count": 10
        },
        {
          "output_type": "display_data",
          "data": {
            "image/png": "[encoded data removed]",
            "text/plain": [
              "<Figure size 720x360 with 1 Axes>"
            ]
          },
          "metadata": {
            "tags": [],
            "needs_background": "light"
          }
        }
      ]
    },
    {
      "cell_type": "markdown",
      "metadata": {
        "id": "AfBHrHl4RSD1"
      },
      "source": [
        "###Modeling"
      ]
    },
    {
      "cell_type": "code",
      "metadata": {
        "colab": {
          "base_uri": "https://localhost:8080/"
        },
        "id": "eimPhA-fIKrz",
        "outputId": "b9b22fc8-5d26-47d4-b9ac-399538152df7"
      },
      "source": [
        "AAPL_Auto_ARIMA_Model = auto_arima(AAPL_Train_Data['log Adj. Close'], seasonal = False,\r\n",
        "                                   error_action = 'ignore', suppress_warnings = True)\r\n",
        "print(AAPL_Auto_ARIMA_Model.summary())"
      ],
      "execution_count": 11,
      "outputs": [
        {
          "output_type": "stream",
          "text": [
            "                               SARIMAX Results                                \n",
            "==============================================================================\n",
            "Dep. Variable:                      y   No. Observations:                 1447\n",
            "Model:               SARIMAX(1, 1, 0)   Log Likelihood                3721.627\n",
            "Date:                Wed, 03 Mar 2021   AIC                          -7437.254\n",
            "Time:                        09:13:01   BIC                          -7421.424\n",
            "Sample:                             0   HQIC                         -7431.346\n",
            "                               - 1447                                         \n",
            "Covariance Type:                  opg                                         \n",
            "==============================================================================\n",
            "                 coef    std err          z      P>|z|      [0.025      0.975]\n",
            "------------------------------------------------------------------------------\n",
            "intercept      0.0012      0.000      2.366      0.018       0.000       0.002\n",
            "ar.L1         -0.0981      0.015     -6.535      0.000      -0.127      -0.069\n",
            "sigma2         0.0003   6.51e-06     52.314      0.000       0.000       0.000\n",
            "===================================================================================\n",
            "Ljung-Box (L1) (Q):                   0.00   Jarque-Bera (JB):              2680.38\n",
            "Prob(Q):                              0.98   Prob(JB):                         0.00\n",
            "Heteroskedasticity (H):               2.25   Skew:                            -0.40\n",
            "Prob(H) (two-sided):                  0.00   Kurtosis:                         9.62\n",
            "===================================================================================\n",
            "\n",
            "Warnings:\n",
            "[1] Covariance matrix calculated using the outer product of gradients (complex-step).\n"
          ],
          "name": "stdout"
        }
      ]
    },
    {
      "cell_type": "code",
      "metadata": {
        "colab": {
          "base_uri": "https://localhost:8080/"
        },
        "id": "eh1Pc10YKQ5h",
        "outputId": "db094e9b-495c-44e0-a929-77983802e5c3"
      },
      "source": [
        "AAPL_ARIMA_Model = ARIMA(AAPL_Train_Data['log Adj. Close'], order = (1, 1, 0))\r\n",
        "AAPL_ARIMA_Model_Fit = AAPL_ARIMA_Model.fit()\r\n",
        "print(AAPL_ARIMA_Model_Fit.summary())"
      ],
      "execution_count": 12,
      "outputs": [
        {
          "output_type": "stream",
          "text": [
            "                             ARIMA Model Results                              \n",
            "==============================================================================\n",
            "Dep. Variable:       D.log Adj. Close   No. Observations:                 1446\n",
            "Model:                 ARIMA(1, 1, 0)   Log Likelihood                3721.627\n",
            "Method:                       css-mle   S.D. of innovations              0.018\n",
            "Date:                Wed, 03 Mar 2021   AIC                          -7437.254\n",
            "Time:                        09:13:01   BIC                          -7421.424\n",
            "Sample:                             1   HQIC                         -7431.346\n",
            "                                                                              \n",
            "==========================================================================================\n",
            "                             coef    std err          z      P>|z|      [0.025      0.975]\n",
            "------------------------------------------------------------------------------------------\n",
            "const                      0.0011      0.000      2.405      0.016       0.000       0.002\n",
            "ar.L1.D.log Adj. Close    -0.0982      0.026     -3.748      0.000      -0.150      -0.047\n",
            "                                    Roots                                    \n",
            "=============================================================================\n",
            "                  Real          Imaginary           Modulus         Frequency\n",
            "-----------------------------------------------------------------------------\n",
            "AR.1          -10.1864           +0.0000j           10.1864            0.5000\n",
            "-----------------------------------------------------------------------------\n"
          ],
          "name": "stdout"
        }
      ]
    },
    {
      "cell_type": "markdown",
      "metadata": {
        "id": "RlxQTJS1MxLU"
      },
      "source": [
        "###Predicting the closing stock price of Apple"
      ]
    },
    {
      "cell_type": "code",
      "metadata": {
        "colab": {
          "base_uri": "https://localhost:8080/",
          "height": 351
        },
        "id": "iAPswyN9LSX3",
        "outputId": "e10c2ac1-954b-4b42-92c2-56cfc3683c2f"
      },
      "source": [
        "AAPL_output = AAPL_ARIMA_Model_Fit.forecast(102, alpha=0.05)\r\n",
        "AAPL_predictions = np.exp(AAPL_output[0])\r\n",
        "plt.figure(figsize=(10, 5))\r\n",
        "plt.plot(AAPL_Train_Data['Date'], AAPL_Train_Data['Adj. Close'], label = 'Training')\r\n",
        "plt.plot(AAPL_Test_Data['Date'], AAPL_Test_Data['Adj. Close'], label = 'Testing')\r\n",
        "plt.plot(AAPL_Test_Data['Date'], AAPL_predictions, label = 'Predictions')\r\n",
        "plt.xlabel('Time')\r\n",
        "plt.ylabel('Closing Price')\r\n",
        "plt.legend()"
      ],
      "execution_count": 13,
      "outputs": [
        {
          "output_type": "execute_result",
          "data": {
            "text/plain": [
              "<matplotlib.legend.Legend at 0x7ff61bd5fb10>"
            ]
          },
          "metadata": {
            "tags": []
          },
          "execution_count": 13
        },
        {
          "output_type": "display_data",
          "data": {
            "image/png": "[encoded data removed]",
            "text/plain": [
              "<Figure size 720x360 with 1 Axes>"
            ]
          },
          "metadata": {
            "tags": [],
            "needs_background": "light"
          }
        }
      ]
    },
    {
      "cell_type": "code",
      "metadata": {
        "colab": {
          "base_uri": "https://localhost:8080/"
        },
        "id": "IcMJb9URK0dj",
        "outputId": "00a60235-8142-4a44-e7c7-27ead9558900"
      },
      "source": [
        "rmse = math.sqrt(mean_squared_error(AAPL_Test_Data['Adj. Close'], AAPL_predictions))\r\n",
        "mape = np.mean(np.abs(AAPL_predictions - AAPL_Test_Data['Adj. Close'])/np.abs(AAPL_Test_Data['Adj. Close']))\r\n",
        "\r\n",
        "print(f'RMSE: {rmse}')\r\n",
        "print(f'MAPE: {mape}')"
      ],
      "execution_count": 14,
      "outputs": [
        {
          "output_type": "stream",
          "text": [
            "RMSE: 6.4063833564144845\n",
            "MAPE: 0.03885097141631591\n"
          ],
          "name": "stdout"
        }
      ]
    },
    {
      "cell_type": "markdown",
      "metadata": {
        "id": "f1W_Gggpy0kg"
      },
      "source": [
        "#Tesla"
      ]
    },
    {
      "cell_type": "code",
      "metadata": {
        "colab": {
          "base_uri": "https://localhost:8080/",
          "height": 195
        },
        "id": "pJWCwitvoSas",
        "outputId": "b955a26f-3b2f-4957-fa78-31a5dbb3a5ec"
      },
      "source": [
        "TSLA.head()"
      ],
      "execution_count": 15,
      "outputs": [
        {
          "output_type": "execute_result",
          "data": {
            "text/html": [
              "<div>\n",
              "<style scoped>\n",
              "    .dataframe tbody tr th:only-of-type {\n",
              "        vertical-align: middle;\n",
              "    }\n",
              "\n",
              "    .dataframe tbody tr th {\n",
              "        vertical-align: top;\n",
              "    }\n",
              "\n",
              "    .dataframe thead th {\n",
              "        text-align: right;\n",
              "    }\n",
              "</style>\n",
              "<table border=\"1\" class=\"dataframe\">\n",
              "  <thead>\n",
              "    <tr style=\"text-align: right;\">\n",
              "      <th></th>\n",
              "      <th>Date</th>\n",
              "      <th>Open</th>\n",
              "      <th>High</th>\n",
              "      <th>Low</th>\n",
              "      <th>Close</th>\n",
              "      <th>Adj. Close</th>\n",
              "      <th>Volume</th>\n",
              "    </tr>\n",
              "  </thead>\n",
              "  <tbody>\n",
              "    <tr>\n",
              "      <th>0</th>\n",
              "      <td>2015-01-02</td>\n",
              "      <td>44.57</td>\n",
              "      <td>44.65</td>\n",
              "      <td>42.65</td>\n",
              "      <td>43.86</td>\n",
              "      <td>43.86</td>\n",
              "      <td>23822000.0</td>\n",
              "    </tr>\n",
              "    <tr>\n",
              "      <th>1</th>\n",
              "      <td>2015-01-05</td>\n",
              "      <td>42.91</td>\n",
              "      <td>43.30</td>\n",
              "      <td>41.43</td>\n",
              "      <td>42.02</td>\n",
              "      <td>42.02</td>\n",
              "      <td>26842500.0</td>\n",
              "    </tr>\n",
              "    <tr>\n",
              "      <th>2</th>\n",
              "      <td>2015-01-06</td>\n",
              "      <td>42.01</td>\n",
              "      <td>42.84</td>\n",
              "      <td>40.84</td>\n",
              "      <td>42.26</td>\n",
              "      <td>42.26</td>\n",
              "      <td>31309500.0</td>\n",
              "    </tr>\n",
              "    <tr>\n",
              "      <th>3</th>\n",
              "      <td>2015-01-07</td>\n",
              "      <td>42.67</td>\n",
              "      <td>42.96</td>\n",
              "      <td>41.96</td>\n",
              "      <td>42.19</td>\n",
              "      <td>42.19</td>\n",
              "      <td>14842000.0</td>\n",
              "    </tr>\n",
              "    <tr>\n",
              "      <th>4</th>\n",
              "      <td>2015-01-08</td>\n",
              "      <td>42.56</td>\n",
              "      <td>42.76</td>\n",
              "      <td>42.00</td>\n",
              "      <td>42.12</td>\n",
              "      <td>42.12</td>\n",
              "      <td>17212500.0</td>\n",
              "    </tr>\n",
              "  </tbody>\n",
              "</table>\n",
              "</div>"
            ],
            "text/plain": [
              "         Date   Open   High    Low  Close  Adj. Close      Volume\n",
              "0  2015-01-02  44.57  44.65  42.65  43.86       43.86  23822000.0\n",
              "1  2015-01-05  42.91  43.30  41.43  42.02       42.02  26842500.0\n",
              "2  2015-01-06  42.01  42.84  40.84  42.26       42.26  31309500.0\n",
              "3  2015-01-07  42.67  42.96  41.96  42.19       42.19  14842000.0\n",
              "4  2015-01-08  42.56  42.76  42.00  42.12       42.12  17212500.0"
            ]
          },
          "metadata": {
            "tags": []
          },
          "execution_count": 15
        }
      ]
    },
    {
      "cell_type": "code",
      "metadata": {
        "colab": {
          "base_uri": "https://localhost:8080/"
        },
        "id": "xdjJ0wBzoWnN",
        "outputId": "0d5cefce-0574-463f-fb00-7e2c9e0bf8be"
      },
      "source": [
        "TSLA.info()"
      ],
      "execution_count": 16,
      "outputs": [
        {
          "output_type": "stream",
          "text": [
            "<class 'pandas.core.frame.DataFrame'>\n",
            "RangeIndex: 1549 entries, 0 to 1548\n",
            "Data columns (total 7 columns):\n",
            " #   Column      Non-Null Count  Dtype  \n",
            "---  ------      --------------  -----  \n",
            " 0   Date        1549 non-null   object \n",
            " 1   Open        1549 non-null   float64\n",
            " 2   High        1549 non-null   float64\n",
            " 3   Low         1549 non-null   float64\n",
            " 4   Close       1549 non-null   float64\n",
            " 5   Adj. Close  1549 non-null   float64\n",
            " 6   Volume      1549 non-null   float64\n",
            "dtypes: float64(6), object(1)\n",
            "memory usage: 84.8+ KB\n"
          ],
          "name": "stdout"
        }
      ]
    },
    {
      "cell_type": "code",
      "metadata": {
        "id": "-CsNqpeBoX4q"
      },
      "source": [
        "# Change Dtype of Date column\r\n",
        "TSLA[\"Date\"] = pd.to_datetime(TSLA[\"Date\"])"
      ],
      "execution_count": 17,
      "outputs": []
    },
    {
      "cell_type": "code",
      "metadata": {
        "colab": {
          "base_uri": "https://localhost:8080/"
        },
        "id": "5JXe11gDogs1",
        "outputId": "dd1555b4-fd23-452c-ebd9-359ec70373c4"
      },
      "source": [
        "Test_Stationarity(TSLA)"
      ],
      "execution_count": 18,
      "outputs": [
        {
          "output_type": "stream",
          "text": [
            "Results of Dickey Fuller Test\n",
            "Test Statistics: 0.3998006273481104\n",
            "p-value: 0.9814874842817937\n",
            "Number of lags used: 24\n",
            "Number of observations used: 1524\n",
            "critical value (1%): -3.4346481290263013\n",
            "critical value (5%): -2.8634383565975736\n",
            "critical value (10%): -2.567780658251872\n"
          ],
          "name": "stdout"
        }
      ]
    },
    {
      "cell_type": "markdown",
      "metadata": {
        "id": "aM_Ue90lKXtA"
      },
      "source": [
        "The p-value > 0.05, so we cannot reject the Null hypothesis. Hence, we would need to use the “Integrated (I)” concept, denoted by value ‘d’ in time series, to make the data stationary while building the Auto ARIMA model."
      ]
    },
    {
      "cell_type": "markdown",
      "metadata": {
        "id": "JllEmx6eLnK5"
      },
      "source": [
        "Now let's take log of the 'Adj. Close' column to reduce the magnitude of the values and reduce the series rising trend."
      ]
    },
    {
      "cell_type": "code",
      "metadata": {
        "id": "EqQxW1vlLYLW",
        "colab": {
          "base_uri": "https://localhost:8080/",
          "height": 367
        },
        "outputId": "93969dd6-57b2-451e-a282-887ac23cad95"
      },
      "source": [
        "TSLA['log Adj. Close'] = np.log(TSLA['Adj. Close'])\r\n",
        "TSLA_log_moving_avg = TSLA['log Adj. Close'].rolling(12).mean()\r\n",
        "TSLA_log_std = TSLA['log Adj. Close'].rolling(12).std()\r\n",
        "\r\n",
        "plt.figure(figsize = (10, 5))\r\n",
        "plt.plot(TSLA['Date'], TSLA_log_moving_avg, label = \"Rolling Mean\")\r\n",
        "plt.plot(TSLA['Date'], TSLA_log_std, label = \"Rolling Std\")\r\n",
        "plt.xlabel('Time')\r\n",
        "plt.ylabel('log Adj. Close')\r\n",
        "plt.legend(loc = 'best')\r\n",
        "plt.title(\"Rolling Mean and Standard Deviation\")"
      ],
      "execution_count": 19,
      "outputs": [
        {
          "output_type": "execute_result",
          "data": {
            "text/plain": [
              "Text(0.5, 1.0, 'Rolling Mean and Standard Deviation')"
            ]
          },
          "metadata": {
            "tags": []
          },
          "execution_count": 19
        },
        {
          "output_type": "display_data",
          "data": {
            "image/png": "[encoded data removed]",
            "text/plain": [
              "<Figure size 720x360 with 1 Axes>"
            ]
          },
          "metadata": {
            "tags": [],
            "needs_background": "light"
          }
        }
      ]
    },
    {
      "cell_type": "markdown",
      "metadata": {
        "id": "-a_pxvtxMPpd"
      },
      "source": [
        "###Split the data into training and test set\r\n",
        "    Training Period: 2015-01-02 - 2020-09-30\r\n",
        "\r\n",
        "    Testing Period:  2020-10-01 - 2021-02-26"
      ]
    },
    {
      "cell_type": "code",
      "metadata": {
        "colab": {
          "base_uri": "https://localhost:8080/",
          "height": 351
        },
        "id": "wR4ZkaR_olHJ",
        "outputId": "dceddd14-f6a3-4c69-83ec-8cf1593fce22"
      },
      "source": [
        "TSLA_Train_Data = TSLA[TSLA['Date'] < '2020-10-01']\r\n",
        "TSLA_Test_Data = TSLA[TSLA['Date'] >= '2020-10-01'].reset_index(drop = True)\r\n",
        "\r\n",
        "plt.figure(figsize = (10, 5))\r\n",
        "plt.plot(TSLA_Train_Data['Date'], TSLA_Train_Data['log Adj. Close'], label = 'Train Data')\r\n",
        "plt.plot(TSLA_Test_Data['Date'], TSLA_Test_Data['log Adj. Close'], label = 'Test Data')\r\n",
        "plt.xlabel('Time')\r\n",
        "plt.ylabel('log Adj. Close')\r\n",
        "plt.legend(loc = 'best')"
      ],
      "execution_count": 20,
      "outputs": [
        {
          "output_type": "execute_result",
          "data": {
            "text/plain": [
              "<matplotlib.legend.Legend at 0x7ff6199eb1d0>"
            ]
          },
          "metadata": {
            "tags": []
          },
          "execution_count": 20
        },
        {
          "output_type": "display_data",
          "data": {
            "image/png": "[encoded data removed]",
            "text/plain": [
              "<Figure size 720x360 with 1 Axes>"
            ]
          },
          "metadata": {
            "tags": [],
            "needs_background": "light"
          }
        }
      ]
    },
    {
      "cell_type": "markdown",
      "metadata": {
        "id": "wChwSDH-ReXi"
      },
      "source": [
        "###Modeling"
      ]
    },
    {
      "cell_type": "code",
      "metadata": {
        "colab": {
          "base_uri": "https://localhost:8080/"
        },
        "id": "1RapLyyepXKT",
        "outputId": "7771746f-23b7-47ac-8428-73efc48f7a19"
      },
      "source": [
        "TSLA_Auto_ARIMA_Model = auto_arima(TSLA_Train_Data['log Adj. Close'], seasonal = False,\r\n",
        "                                   error_action = 'ignore', suppress_warnings = True)\r\n",
        "print(TSLA_Auto_ARIMA_Model.summary())"
      ],
      "execution_count": 21,
      "outputs": [
        {
          "output_type": "stream",
          "text": [
            "                               SARIMAX Results                                \n",
            "==============================================================================\n",
            "Dep. Variable:                      y   No. Observations:                 1447\n",
            "Model:               SARIMAX(5, 2, 2)   Log Likelihood                2803.438\n",
            "Date:                Wed, 03 Mar 2021   AIC                          -5588.875\n",
            "Time:                        09:13:45   BIC                          -5541.392\n",
            "Sample:                             0   HQIC                         -5571.153\n",
            "                               - 1447                                         \n",
            "Covariance Type:                  opg                                         \n",
            "==============================================================================\n",
            "                 coef    std err          z      P>|z|      [0.025      0.975]\n",
            "------------------------------------------------------------------------------\n",
            "intercept   8.908e-06   5.33e-05      0.167      0.867   -9.56e-05       0.000\n",
            "ar.L1         -0.6933      7.704     -0.090      0.928     -15.793      14.407\n",
            "ar.L2          0.0633      0.247      0.256      0.798      -0.421       0.547\n",
            "ar.L3          0.0853      0.310      0.275      0.783      -0.523       0.693\n",
            "ar.L4         -0.0010      0.432     -0.002      0.998      -0.848       0.846\n",
            "ar.L5         -0.0311      0.311     -0.100      0.920      -0.640       0.578\n",
            "ma.L1         -0.2525      7.703     -0.033      0.974     -15.350      14.845\n",
            "ma.L2         -0.7085      7.530     -0.094      0.925     -15.467      14.050\n",
            "sigma2         0.0012   2.42e-05     49.787      0.000       0.001       0.001\n",
            "===================================================================================\n",
            "Ljung-Box (L1) (Q):                   1.95   Jarque-Bera (JB):              2838.39\n",
            "Prob(Q):                              0.16   Prob(JB):                         0.00\n",
            "Heteroskedasticity (H):               3.40   Skew:                            -0.31\n",
            "Prob(H) (two-sided):                  0.00   Kurtosis:                         9.84\n",
            "===================================================================================\n",
            "\n",
            "Warnings:\n",
            "[1] Covariance matrix calculated using the outer product of gradients (complex-step).\n"
          ],
          "name": "stdout"
        }
      ]
    },
    {
      "cell_type": "code",
      "metadata": {
        "colab": {
          "base_uri": "https://localhost:8080/"
        },
        "id": "qfLnB9BCp3qc",
        "outputId": "2a872cba-4a77-4656-b270-b3f020167d1f"
      },
      "source": [
        "TSLA_ARIMA_Model = ARIMA(TSLA_Train_Data['log Adj. Close'], order = (5, 2, 2))\r\n",
        "TSLA_ARIMA_Model_Fit = TSLA_ARIMA_Model.fit()\r\n",
        "print(TSLA_ARIMA_Model_Fit.summary())"
      ],
      "execution_count": 22,
      "outputs": [
        {
          "output_type": "stream",
          "text": [
            "                             ARIMA Model Results                              \n",
            "==============================================================================\n",
            "Dep. Variable:      D2.log Adj. Close   No. Observations:                 1445\n",
            "Model:                 ARIMA(5, 2, 2)   Log Likelihood                2811.906\n",
            "Method:                       css-mle   S.D. of innovations              0.034\n",
            "Date:                Wed, 03 Mar 2021   AIC                          -5605.812\n",
            "Time:                        09:13:48   BIC                          -5558.329\n",
            "Sample:                             2   HQIC                         -5588.089\n",
            "                                                                              \n",
            "===========================================================================================\n",
            "                              coef    std err          z      P>|z|      [0.025      0.975]\n",
            "-------------------------------------------------------------------------------------------\n",
            "const                    4.701e-06   3.63e-06      1.295      0.195   -2.41e-06    1.18e-05\n",
            "ar.L1.D2.log Adj. Close    -0.7382      1.030     -0.717      0.474      -2.757       1.281\n",
            "ar.L2.D2.log Adj. Close     0.0493      0.034      1.444      0.149      -0.018       0.116\n",
            "ar.L3.D2.log Adj. Close     0.0780      0.059      1.325      0.185      -0.037       0.193\n",
            "ar.L4.D2.log Adj. Close    -0.0088      0.054     -0.162      0.871      -0.115       0.097\n",
            "ar.L5.D2.log Adj. Close    -0.0411      0.028     -1.473      0.141      -0.096       0.014\n",
            "ma.L1.D2.log Adj. Close    -0.2564      1.029     -0.249      0.803      -2.273       1.761\n",
            "ma.L2.D2.log Adj. Close    -0.7409      1.021     -0.725      0.468      -2.743       1.261\n",
            "                                    Roots                                    \n",
            "=============================================================================\n",
            "                  Real          Imaginary           Modulus         Frequency\n",
            "-----------------------------------------------------------------------------\n",
            "AR.1           -1.3011           -0.0000j            1.3011           -0.5000\n",
            "AR.2           -1.2725           -1.4429j            1.9238           -0.3650\n",
            "AR.3           -1.2725           +1.4429j            1.9238            0.3650\n",
            "AR.4            1.8162           -1.3267j            2.2492           -0.1004\n",
            "AR.5            1.8162           +1.3267j            2.2492            0.1004\n",
            "MA.1            1.0015           +0.0000j            1.0015            0.0000\n",
            "MA.2           -1.3477           +0.0000j            1.3477            0.5000\n",
            "-----------------------------------------------------------------------------\n"
          ],
          "name": "stdout"
        }
      ]
    },
    {
      "cell_type": "markdown",
      "metadata": {
        "id": "YVsGGJkeM-A9"
      },
      "source": [
        "###Predicting the closing stock price of Tesla"
      ]
    },
    {
      "cell_type": "code",
      "metadata": {
        "colab": {
          "base_uri": "https://localhost:8080/",
          "height": 351
        },
        "id": "DFySYonSrhQb",
        "outputId": "70ea4a63-2581-46de-c6e7-3d458b67cd65"
      },
      "source": [
        "TSLA_output = TSLA_ARIMA_Model_Fit.forecast(102, alpha=0.05)\r\n",
        "TSLA_predictions = np.exp(TSLA_output[0])\r\n",
        "plt.figure(figsize=(10, 5))\r\n",
        "plt.plot(TSLA_Train_Data['Date'], TSLA_Train_Data['Adj. Close'], label = 'Training')\r\n",
        "plt.plot(TSLA_Test_Data['Date'], TSLA_Test_Data['Adj. Close'], label = 'Testing')\r\n",
        "plt.plot(TSLA_Test_Data['Date'], TSLA_predictions, label = 'Predictions')\r\n",
        "plt.xlabel('Time')\r\n",
        "plt.ylabel('Closing Price')\r\n",
        "plt.legend()"
      ],
      "execution_count": 23,
      "outputs": [
        {
          "output_type": "execute_result",
          "data": {
            "text/plain": [
              "<matplotlib.legend.Legend at 0x7ff619928250>"
            ]
          },
          "metadata": {
            "tags": []
          },
          "execution_count": 23
        },
        {
          "output_type": "display_data",
          "data": {
            "image/png": "[encoded data removed]",
            "text/plain": [
              "<Figure size 720x360 with 1 Axes>"
            ]
          },
          "metadata": {
            "tags": [],
            "needs_background": "light"
          }
        }
      ]
    },
    {
      "cell_type": "code",
      "metadata": {
        "colab": {
          "base_uri": "https://localhost:8080/"
        },
        "id": "SX7T-8JPr1vd",
        "outputId": "5119376d-f898-44e9-9633-96a0e7709fe9"
      },
      "source": [
        "rmse = math.sqrt(mean_squared_error(TSLA_Test_Data['Adj. Close'], TSLA_predictions))\r\n",
        "mape = np.mean(np.abs(TSLA_predictions - TSLA_Test_Data['Adj. Close'])/np.abs(TSLA_Test_Data['Adj. Close']))\r\n",
        "\r\n",
        "print(f'RMSE: {rmse}')\r\n",
        "print(f'MAPE: {mape}')"
      ],
      "execution_count": 24,
      "outputs": [
        {
          "output_type": "stream",
          "text": [
            "RMSE: 108.11371680798878\n",
            "MAPE: 0.1303704319549627\n"
          ],
          "name": "stdout"
        }
      ]
    },
    {
      "cell_type": "markdown",
      "metadata": {
        "id": "FvUKldXqy82G"
      },
      "source": [
        "#Google"
      ]
    },
    {
      "cell_type": "code",
      "metadata": {
        "colab": {
          "base_uri": "https://localhost:8080/",
          "height": 195
        },
        "id": "xErJ0CQ3so4e",
        "outputId": "4513260e-e4cd-410f-dd58-ae5c6fc421a0"
      },
      "source": [
        "GOOG.head()"
      ],
      "execution_count": 25,
      "outputs": [
        {
          "output_type": "execute_result",
          "data": {
            "text/html": [
              "<div>\n",
              "<style scoped>\n",
              "    .dataframe tbody tr th:only-of-type {\n",
              "        vertical-align: middle;\n",
              "    }\n",
              "\n",
              "    .dataframe tbody tr th {\n",
              "        vertical-align: top;\n",
              "    }\n",
              "\n",
              "    .dataframe thead th {\n",
              "        text-align: right;\n",
              "    }\n",
              "</style>\n",
              "<table border=\"1\" class=\"dataframe\">\n",
              "  <thead>\n",
              "    <tr style=\"text-align: right;\">\n",
              "      <th></th>\n",
              "      <th>Date</th>\n",
              "      <th>Open</th>\n",
              "      <th>High</th>\n",
              "      <th>Low</th>\n",
              "      <th>Close</th>\n",
              "      <th>Adj. Close</th>\n",
              "      <th>Volume</th>\n",
              "    </tr>\n",
              "  </thead>\n",
              "  <tbody>\n",
              "    <tr>\n",
              "      <th>0</th>\n",
              "      <td>2015-01-02</td>\n",
              "      <td>527.56</td>\n",
              "      <td>529.82</td>\n",
              "      <td>522.67</td>\n",
              "      <td>523.37</td>\n",
              "      <td>523.37</td>\n",
              "      <td>1447563.0</td>\n",
              "    </tr>\n",
              "    <tr>\n",
              "      <th>1</th>\n",
              "      <td>2015-01-05</td>\n",
              "      <td>521.83</td>\n",
              "      <td>522.89</td>\n",
              "      <td>511.66</td>\n",
              "      <td>512.46</td>\n",
              "      <td>512.46</td>\n",
              "      <td>2059840.0</td>\n",
              "    </tr>\n",
              "    <tr>\n",
              "      <th>2</th>\n",
              "      <td>2015-01-06</td>\n",
              "      <td>513.59</td>\n",
              "      <td>514.76</td>\n",
              "      <td>499.68</td>\n",
              "      <td>500.59</td>\n",
              "      <td>500.59</td>\n",
              "      <td>2899940.0</td>\n",
              "    </tr>\n",
              "    <tr>\n",
              "      <th>3</th>\n",
              "      <td>2015-01-07</td>\n",
              "      <td>505.61</td>\n",
              "      <td>505.86</td>\n",
              "      <td>498.28</td>\n",
              "      <td>499.73</td>\n",
              "      <td>499.73</td>\n",
              "      <td>2065054.0</td>\n",
              "    </tr>\n",
              "    <tr>\n",
              "      <th>4</th>\n",
              "      <td>2015-01-08</td>\n",
              "      <td>496.63</td>\n",
              "      <td>502.10</td>\n",
              "      <td>489.66</td>\n",
              "      <td>501.30</td>\n",
              "      <td>501.30</td>\n",
              "      <td>3353582.0</td>\n",
              "    </tr>\n",
              "  </tbody>\n",
              "</table>\n",
              "</div>"
            ],
            "text/plain": [
              "         Date    Open    High     Low   Close  Adj. Close     Volume\n",
              "0  2015-01-02  527.56  529.82  522.67  523.37      523.37  1447563.0\n",
              "1  2015-01-05  521.83  522.89  511.66  512.46      512.46  2059840.0\n",
              "2  2015-01-06  513.59  514.76  499.68  500.59      500.59  2899940.0\n",
              "3  2015-01-07  505.61  505.86  498.28  499.73      499.73  2065054.0\n",
              "4  2015-01-08  496.63  502.10  489.66  501.30      501.30  3353582.0"
            ]
          },
          "metadata": {
            "tags": []
          },
          "execution_count": 25
        }
      ]
    },
    {
      "cell_type": "code",
      "metadata": {
        "colab": {
          "base_uri": "https://localhost:8080/"
        },
        "id": "iVZhlkydsqJb",
        "outputId": "22823c90-c486-46c7-f01f-2ff7c63fec1a"
      },
      "source": [
        "GOOG.info()"
      ],
      "execution_count": 26,
      "outputs": [
        {
          "output_type": "stream",
          "text": [
            "<class 'pandas.core.frame.DataFrame'>\n",
            "RangeIndex: 1549 entries, 0 to 1548\n",
            "Data columns (total 7 columns):\n",
            " #   Column      Non-Null Count  Dtype  \n",
            "---  ------      --------------  -----  \n",
            " 0   Date        1549 non-null   object \n",
            " 1   Open        1549 non-null   float64\n",
            " 2   High        1549 non-null   float64\n",
            " 3   Low         1549 non-null   float64\n",
            " 4   Close       1549 non-null   float64\n",
            " 5   Adj. Close  1549 non-null   float64\n",
            " 6   Volume      1549 non-null   float64\n",
            "dtypes: float64(6), object(1)\n",
            "memory usage: 84.8+ KB\n"
          ],
          "name": "stdout"
        }
      ]
    },
    {
      "cell_type": "code",
      "metadata": {
        "id": "8yikWnnrsr9f"
      },
      "source": [
        "# Change Dtype of Date column\r\n",
        "GOOG[\"Date\"] = pd.to_datetime(GOOG[\"Date\"])"
      ],
      "execution_count": 27,
      "outputs": []
    },
    {
      "cell_type": "code",
      "metadata": {
        "colab": {
          "base_uri": "https://localhost:8080/"
        },
        "id": "HRMrtOvKsy42",
        "outputId": "fbfdb87d-a038-405b-9442-63024171d208"
      },
      "source": [
        "Test_Stationarity(GOOG)"
      ],
      "execution_count": 28,
      "outputs": [
        {
          "output_type": "stream",
          "text": [
            "Results of Dickey Fuller Test\n",
            "Test Statistics: 0.6722962942047408\n",
            "p-value: 0.9892684650395426\n",
            "Number of lags used: 22\n",
            "Number of observations used: 1526\n",
            "critical value (1%): -3.4346424863111396\n",
            "critical value (5%): -2.8634358661653803\n",
            "critical value (10%): -2.5677793320839823\n"
          ],
          "name": "stdout"
        }
      ]
    },
    {
      "cell_type": "markdown",
      "metadata": {
        "id": "HpYy3ZVxKdBH"
      },
      "source": [
        "The p-value > 0.05, so we cannot reject the Null hypothesis. Hence, we would need to use the “Integrated (I)” concept, denoted by value ‘d’ in time series, to make the data stationary while building the Auto ARIMA model."
      ]
    },
    {
      "cell_type": "markdown",
      "metadata": {
        "id": "eviopHmALqz8"
      },
      "source": [
        "Now let's take log of the 'Adj. Close' column to reduce the magnitude of the values and reduce the series rising trend."
      ]
    },
    {
      "cell_type": "code",
      "metadata": {
        "colab": {
          "base_uri": "https://localhost:8080/",
          "height": 367
        },
        "id": "RuVhHWR7s33g",
        "outputId": "ed290807-dcd9-40a1-f040-b2b79d31e5fd"
      },
      "source": [
        "GOOG['log Adj. Close'] = np.log(GOOG['Adj. Close'])\r\n",
        "GOOG_log_moving_avg = GOOG['log Adj. Close'].rolling(12).mean()\r\n",
        "GOOG_log_std = GOOG['log Adj. Close'].rolling(12).std()\r\n",
        "\r\n",
        "plt.figure(figsize = (10, 5))\r\n",
        "plt.plot(GOOG['Date'], GOOG_log_moving_avg, label = \"Rolling Mean\")\r\n",
        "plt.plot(GOOG['Date'], GOOG_log_std, label = \"Rolling Std\")\r\n",
        "plt.xlabel('Time')\r\n",
        "plt.ylabel('log Adj. Close')\r\n",
        "plt.legend(loc = 'best')\r\n",
        "plt.title(\"Rolling Mean and Standard Deviation\")"
      ],
      "execution_count": 29,
      "outputs": [
        {
          "output_type": "execute_result",
          "data": {
            "text/plain": [
              "Text(0.5, 1.0, 'Rolling Mean and Standard Deviation')"
            ]
          },
          "metadata": {
            "tags": []
          },
          "execution_count": 29
        },
        {
          "output_type": "display_data",
          "data": {
            "image/png": "[encoded data removed]",
            "text/plain": [
              "<Figure size 720x360 with 1 Axes>"
            ]
          },
          "metadata": {
            "tags": [],
            "needs_background": "light"
          }
        }
      ]
    },
    {
      "cell_type": "markdown",
      "metadata": {
        "id": "E8NdBiBIMU40"
      },
      "source": [
        "###Split the data into training and test set\r\n",
        "    Training Period: 2015-01-02 - 2020-10-30\r\n",
        "\r\n",
        "    Testing Period:  2020-11-02 - 2021-02-26"
      ]
    },
    {
      "cell_type": "code",
      "metadata": {
        "colab": {
          "base_uri": "https://localhost:8080/",
          "height": 351
        },
        "id": "PILs-RoCtMwh",
        "outputId": "d5237ddb-46a3-47db-ccef-2f90e387e394"
      },
      "source": [
        "GOOG_Train_Data = GOOG[GOOG['Date'] < '2020-11-01']\r\n",
        "GOOG_Test_Data = GOOG[GOOG['Date'] >= '2020-11-01'].reset_index(drop = True)\r\n",
        "\r\n",
        "plt.figure(figsize = (10, 5))\r\n",
        "plt.plot(GOOG_Train_Data['Date'], GOOG_Train_Data['log Adj. Close'], label = 'Train Data')\r\n",
        "plt.plot(GOOG_Test_Data['Date'], GOOG_Test_Data['log Adj. Close'], label = 'Test Data')\r\n",
        "plt.xlabel('Time')\r\n",
        "plt.ylabel('log Adj. Close')\r\n",
        "plt.legend(loc = 'best')"
      ],
      "execution_count": 30,
      "outputs": [
        {
          "output_type": "execute_result",
          "data": {
            "text/plain": [
              "<matplotlib.legend.Legend at 0x7ff61903ffd0>"
            ]
          },
          "metadata": {
            "tags": []
          },
          "execution_count": 30
        },
        {
          "output_type": "display_data",
          "data": {
            "image/png": "[encoded data removed]",
            "text/plain": [
              "<Figure size 720x360 with 1 Axes>"
            ]
          },
          "metadata": {
            "tags": [],
            "needs_background": "light"
          }
        }
      ]
    },
    {
      "cell_type": "markdown",
      "metadata": {
        "id": "t8Iy1lORRhN5"
      },
      "source": [
        "###Modeling"
      ]
    },
    {
      "cell_type": "code",
      "metadata": {
        "colab": {
          "base_uri": "https://localhost:8080/"
        },
        "id": "dlUNaxD8tfug",
        "outputId": "1fe93d92-0543-4dbd-9dcc-a1c07ec53719"
      },
      "source": [
        "GOOG_Auto_ARIMA_Model = auto_arima(GOOG_Train_Data['log Adj. Close'], seasonal = False,\r\n",
        "                                   error_action = 'ignore', suppress_warnings = True)\r\n",
        "print(GOOG_Auto_ARIMA_Model.summary())"
      ],
      "execution_count": 31,
      "outputs": [
        {
          "output_type": "stream",
          "text": [
            "                               SARIMAX Results                                \n",
            "==============================================================================\n",
            "Dep. Variable:                      y   No. Observations:                 1469\n",
            "Model:               SARIMAX(1, 1, 0)   Log Likelihood                3905.939\n",
            "Date:                Wed, 03 Mar 2021   AIC                          -7805.878\n",
            "Time:                        09:13:56   BIC                          -7790.003\n",
            "Sample:                             0   HQIC                         -7799.958\n",
            "                               - 1469                                         \n",
            "Covariance Type:                  opg                                         \n",
            "==============================================================================\n",
            "                 coef    std err          z      P>|z|      [0.025      0.975]\n",
            "------------------------------------------------------------------------------\n",
            "intercept      0.0008      0.000      1.882      0.060   -3.47e-05       0.002\n",
            "ar.L1         -0.0876      0.015     -5.798      0.000      -0.117      -0.058\n",
            "sigma2         0.0003   4.48e-06     63.886      0.000       0.000       0.000\n",
            "===================================================================================\n",
            "Ljung-Box (L1) (Q):                   0.00   Jarque-Bera (JB):              5179.36\n",
            "Prob(Q):                              1.00   Prob(JB):                         0.00\n",
            "Heteroskedasticity (H):               1.63   Skew:                             0.19\n",
            "Prob(H) (two-sided):                  0.00   Kurtosis:                        12.19\n",
            "===================================================================================\n",
            "\n",
            "Warnings:\n",
            "[1] Covariance matrix calculated using the outer product of gradients (complex-step).\n"
          ],
          "name": "stdout"
        }
      ]
    },
    {
      "cell_type": "code",
      "metadata": {
        "colab": {
          "base_uri": "https://localhost:8080/"
        },
        "id": "cZEjonRRtwpd",
        "outputId": "b6f42fa9-e745-43ec-92da-ffc13c6c0d29"
      },
      "source": [
        "GOOG_ARIMA_Model = ARIMA(GOOG_Train_Data['log Adj. Close'], order = (1, 1, 0))\r\n",
        "GOOG_ARIMA_Model_Fit = GOOG_ARIMA_Model.fit()\r\n",
        "print(GOOG_ARIMA_Model_Fit.summary())"
      ],
      "execution_count": 32,
      "outputs": [
        {
          "output_type": "stream",
          "text": [
            "                             ARIMA Model Results                              \n",
            "==============================================================================\n",
            "Dep. Variable:       D.log Adj. Close   No. Observations:                 1468\n",
            "Model:                 ARIMA(1, 1, 0)   Log Likelihood                3905.939\n",
            "Method:                       css-mle   S.D. of innovations              0.017\n",
            "Date:                Wed, 03 Mar 2021   AIC                          -7805.879\n",
            "Time:                        09:13:56   BIC                          -7790.004\n",
            "Sample:                             1   HQIC                         -7799.958\n",
            "                                                                              \n",
            "==========================================================================================\n",
            "                             coef    std err          z      P>|z|      [0.025      0.975]\n",
            "------------------------------------------------------------------------------------------\n",
            "const                      0.0008      0.000      1.896      0.058    -2.6e-05       0.002\n",
            "ar.L1.D.log Adj. Close    -0.0877      0.026     -3.367      0.001      -0.139      -0.037\n",
            "                                    Roots                                    \n",
            "=============================================================================\n",
            "                  Real          Imaginary           Modulus         Frequency\n",
            "-----------------------------------------------------------------------------\n",
            "AR.1          -11.4059           +0.0000j           11.4059            0.5000\n",
            "-----------------------------------------------------------------------------\n"
          ],
          "name": "stdout"
        }
      ]
    },
    {
      "cell_type": "markdown",
      "metadata": {
        "id": "qacgTwHNNBtt"
      },
      "source": [
        "###Predicting the closing stock price of Google"
      ]
    },
    {
      "cell_type": "code",
      "metadata": {
        "colab": {
          "base_uri": "https://localhost:8080/",
          "height": 351
        },
        "id": "V-PcSO-at-qT",
        "outputId": "d4545453-fe45-4f8e-bfdc-0bad7e1c4b3e"
      },
      "source": [
        "GOOG_output = GOOG_ARIMA_Model_Fit.forecast(80, alpha=0.05)\r\n",
        "GOOG_predictions = np.exp(GOOG_output[0])\r\n",
        "plt.figure(figsize=(10, 5))\r\n",
        "plt.plot(GOOG_Train_Data['Date'], GOOG_Train_Data['Adj. Close'], label = 'Training')\r\n",
        "plt.plot(GOOG_Test_Data['Date'], GOOG_Test_Data['Adj. Close'], label = 'Testing')\r\n",
        "plt.plot(GOOG_Test_Data['Date'], GOOG_predictions, label = 'Predictions')\r\n",
        "plt.xlabel('Time')\r\n",
        "plt.ylabel('Closing Price')\r\n",
        "plt.legend()"
      ],
      "execution_count": 33,
      "outputs": [
        {
          "output_type": "execute_result",
          "data": {
            "text/plain": [
              "<matplotlib.legend.Legend at 0x7ff61900e090>"
            ]
          },
          "metadata": {
            "tags": []
          },
          "execution_count": 33
        },
        {
          "output_type": "display_data",
          "data": {
            "image/png": "[encoded data removed]",
            "text/plain": [
              "<Figure size 720x360 with 1 Axes>"
            ]
          },
          "metadata": {
            "tags": [],
            "needs_background": "light"
          }
        }
      ]
    },
    {
      "cell_type": "code",
      "metadata": {
        "colab": {
          "base_uri": "https://localhost:8080/"
        },
        "id": "fc894ymcuJJW",
        "outputId": "10447a51-6d60-4825-b4b9-3fe64858adc4"
      },
      "source": [
        "rmse = math.sqrt(mean_squared_error(GOOG_Test_Data['Adj. Close'], GOOG_predictions))\r\n",
        "mape = np.mean(np.abs(GOOG_predictions - GOOG_Test_Data['Adj. Close'])/np.abs(GOOG_Test_Data['Adj. Close']))\r\n",
        "\r\n",
        "print(f'RMSE: {rmse}')\r\n",
        "print(f'MAPE: {mape}')"
      ],
      "execution_count": 34,
      "outputs": [
        {
          "output_type": "stream",
          "text": [
            "RMSE: 210.40237555557943\n",
            "MAPE: 0.09222702265794448\n"
          ],
          "name": "stdout"
        }
      ]
    },
    {
      "cell_type": "markdown",
      "metadata": {
        "id": "j_W5QhHlzCmI"
      },
      "source": [
        "#Microsoft"
      ]
    },
    {
      "cell_type": "code",
      "metadata": {
        "colab": {
          "base_uri": "https://localhost:8080/",
          "height": 195
        },
        "id": "S9u6WSEUunoE",
        "outputId": "2c86580f-aa4c-4a83-e208-22189d28d978"
      },
      "source": [
        "MSFT.head()"
      ],
      "execution_count": 35,
      "outputs": [
        {
          "output_type": "execute_result",
          "data": {
            "text/html": [
              "<div>\n",
              "<style scoped>\n",
              "    .dataframe tbody tr th:only-of-type {\n",
              "        vertical-align: middle;\n",
              "    }\n",
              "\n",
              "    .dataframe tbody tr th {\n",
              "        vertical-align: top;\n",
              "    }\n",
              "\n",
              "    .dataframe thead th {\n",
              "        text-align: right;\n",
              "    }\n",
              "</style>\n",
              "<table border=\"1\" class=\"dataframe\">\n",
              "  <thead>\n",
              "    <tr style=\"text-align: right;\">\n",
              "      <th></th>\n",
              "      <th>Date</th>\n",
              "      <th>Open</th>\n",
              "      <th>High</th>\n",
              "      <th>Low</th>\n",
              "      <th>Close</th>\n",
              "      <th>Adj. Close</th>\n",
              "      <th>Volume</th>\n",
              "    </tr>\n",
              "  </thead>\n",
              "  <tbody>\n",
              "    <tr>\n",
              "      <th>0</th>\n",
              "      <td>2015-01-02</td>\n",
              "      <td>46.66</td>\n",
              "      <td>47.42</td>\n",
              "      <td>46.54</td>\n",
              "      <td>46.76</td>\n",
              "      <td>41.44</td>\n",
              "      <td>27913900.0</td>\n",
              "    </tr>\n",
              "    <tr>\n",
              "      <th>1</th>\n",
              "      <td>2015-01-05</td>\n",
              "      <td>46.37</td>\n",
              "      <td>46.73</td>\n",
              "      <td>46.25</td>\n",
              "      <td>46.33</td>\n",
              "      <td>41.06</td>\n",
              "      <td>39673900.0</td>\n",
              "    </tr>\n",
              "    <tr>\n",
              "      <th>2</th>\n",
              "      <td>2015-01-06</td>\n",
              "      <td>46.38</td>\n",
              "      <td>46.75</td>\n",
              "      <td>45.54</td>\n",
              "      <td>45.65</td>\n",
              "      <td>40.46</td>\n",
              "      <td>36447900.0</td>\n",
              "    </tr>\n",
              "    <tr>\n",
              "      <th>3</th>\n",
              "      <td>2015-01-07</td>\n",
              "      <td>45.98</td>\n",
              "      <td>46.46</td>\n",
              "      <td>45.49</td>\n",
              "      <td>46.23</td>\n",
              "      <td>40.97</td>\n",
              "      <td>29114100.0</td>\n",
              "    </tr>\n",
              "    <tr>\n",
              "      <th>4</th>\n",
              "      <td>2015-01-08</td>\n",
              "      <td>46.75</td>\n",
              "      <td>47.75</td>\n",
              "      <td>46.72</td>\n",
              "      <td>47.59</td>\n",
              "      <td>42.18</td>\n",
              "      <td>29645200.0</td>\n",
              "    </tr>\n",
              "  </tbody>\n",
              "</table>\n",
              "</div>"
            ],
            "text/plain": [
              "         Date   Open   High    Low  Close  Adj. Close      Volume\n",
              "0  2015-01-02  46.66  47.42  46.54  46.76       41.44  27913900.0\n",
              "1  2015-01-05  46.37  46.73  46.25  46.33       41.06  39673900.0\n",
              "2  2015-01-06  46.38  46.75  45.54  45.65       40.46  36447900.0\n",
              "3  2015-01-07  45.98  46.46  45.49  46.23       40.97  29114100.0\n",
              "4  2015-01-08  46.75  47.75  46.72  47.59       42.18  29645200.0"
            ]
          },
          "metadata": {
            "tags": []
          },
          "execution_count": 35
        }
      ]
    },
    {
      "cell_type": "code",
      "metadata": {
        "colab": {
          "base_uri": "https://localhost:8080/"
        },
        "id": "eRKz1iCtupHM",
        "outputId": "2242e99a-b388-4ca4-807b-f7d077c286c3"
      },
      "source": [
        "MSFT.info()"
      ],
      "execution_count": 36,
      "outputs": [
        {
          "output_type": "stream",
          "text": [
            "<class 'pandas.core.frame.DataFrame'>\n",
            "RangeIndex: 1549 entries, 0 to 1548\n",
            "Data columns (total 7 columns):\n",
            " #   Column      Non-Null Count  Dtype  \n",
            "---  ------      --------------  -----  \n",
            " 0   Date        1549 non-null   object \n",
            " 1   Open        1549 non-null   float64\n",
            " 2   High        1549 non-null   float64\n",
            " 3   Low         1549 non-null   float64\n",
            " 4   Close       1549 non-null   float64\n",
            " 5   Adj. Close  1549 non-null   float64\n",
            " 6   Volume      1549 non-null   float64\n",
            "dtypes: float64(6), object(1)\n",
            "memory usage: 84.8+ KB\n"
          ],
          "name": "stdout"
        }
      ]
    },
    {
      "cell_type": "code",
      "metadata": {
        "id": "kD4cy5Laurga"
      },
      "source": [
        "# Change Dtype of Date column\r\n",
        "MSFT[\"Date\"] = pd.to_datetime(MSFT[\"Date\"])"
      ],
      "execution_count": 37,
      "outputs": []
    },
    {
      "cell_type": "code",
      "metadata": {
        "colab": {
          "base_uri": "https://localhost:8080/"
        },
        "id": "V6VHqbXkuypI",
        "outputId": "87c86f2e-a252-4b25-a991-cd430846b1c9"
      },
      "source": [
        "Test_Stationarity(MSFT)"
      ],
      "execution_count": 38,
      "outputs": [
        {
          "output_type": "stream",
          "text": [
            "Results of Dickey Fuller Test\n",
            "Test Statistics: 2.1271168914605765\n",
            "p-value: 0.9988169756931882\n",
            "Number of lags used: 24\n",
            "Number of observations used: 1524\n",
            "critical value (1%): -3.4346481290263013\n",
            "critical value (5%): -2.8634383565975736\n",
            "critical value (10%): -2.567780658251872\n"
          ],
          "name": "stdout"
        }
      ]
    },
    {
      "cell_type": "markdown",
      "metadata": {
        "id": "dhhaesjtKf2B"
      },
      "source": [
        "The p-value > 0.05, so we cannot reject the Null hypothesis. Hence, we would need to use the “Integrated (I)” concept, denoted by value ‘d’ in time series, to make the data stationary while building the Auto ARIMA model."
      ]
    },
    {
      "cell_type": "markdown",
      "metadata": {
        "id": "F-7f4tw3Luoc"
      },
      "source": [
        "Now let's take log of the 'Adj. Close' column to reduce the magnitude of the values and reduce the series rising trend."
      ]
    },
    {
      "cell_type": "code",
      "metadata": {
        "colab": {
          "base_uri": "https://localhost:8080/",
          "height": 367
        },
        "id": "PDUMAlDvu3xG",
        "outputId": "fe1e4944-ae92-4a36-f929-db26369c1a88"
      },
      "source": [
        "MSFT['log Adj. Close'] = np.log(MSFT['Adj. Close'])\r\n",
        "MSFT_log_moving_avg = MSFT['log Adj. Close'].rolling(12).mean()\r\n",
        "MSFT_log_std = MSFT['log Adj. Close'].rolling(12).std()\r\n",
        "\r\n",
        "plt.figure(figsize = (10, 5))\r\n",
        "plt.plot(MSFT['Date'], MSFT_log_moving_avg, label = \"Rolling Mean\")\r\n",
        "plt.plot(MSFT['Date'], MSFT_log_std, label = \"Rolling Std\")\r\n",
        "plt.xlabel('Time')\r\n",
        "plt.ylabel('log Adj. Close')\r\n",
        "plt.legend(loc = 'best')\r\n",
        "plt.title(\"Rolling Mean and Standard Deviation\")"
      ],
      "execution_count": 39,
      "outputs": [
        {
          "output_type": "execute_result",
          "data": {
            "text/plain": [
              "Text(0.5, 1.0, 'Rolling Mean and Standard Deviation')"
            ]
          },
          "metadata": {
            "tags": []
          },
          "execution_count": 39
        },
        {
          "output_type": "display_data",
          "data": {
            "image/png": "[encoded data removed]",
            "text/plain": [
              "<Figure size 720x360 with 1 Axes>"
            ]
          },
          "metadata": {
            "tags": [],
            "needs_background": "light"
          }
        }
      ]
    },
    {
      "cell_type": "markdown",
      "metadata": {
        "id": "isAR11JHMYWV"
      },
      "source": [
        "###Split the data into training and test set\r\n",
        "    Training Period: 2015-01-02 - 2020-09-30\r\n",
        "\r\n",
        "    Testing Period:  2020-10-01 - 2021-02-26"
      ]
    },
    {
      "cell_type": "code",
      "metadata": {
        "colab": {
          "base_uri": "https://localhost:8080/",
          "height": 351
        },
        "id": "vuyO02PHvLdl",
        "outputId": "d2f2265e-6533-453b-83e1-7d6daa532c00"
      },
      "source": [
        "MSFT_Train_Data = MSFT[MSFT['Date'] < '2020-10-01']\r\n",
        "MSFT_Test_Data = MSFT[MSFT['Date'] >= '2020-10-01'].reset_index(drop = True)\r\n",
        "\r\n",
        "plt.figure(figsize = (10, 5))\r\n",
        "plt.plot(MSFT_Train_Data['Date'], MSFT_Train_Data['log Adj. Close'], label = 'Train Data')\r\n",
        "plt.plot(MSFT_Test_Data['Date'], MSFT_Test_Data['log Adj. Close'], label = 'Test Data')\r\n",
        "plt.xlabel('Time')\r\n",
        "plt.ylabel('log Adj. Close')\r\n",
        "plt.legend(loc = 'best')"
      ],
      "execution_count": 40,
      "outputs": [
        {
          "output_type": "execute_result",
          "data": {
            "text/plain": [
              "<matplotlib.legend.Legend at 0x7ff619c81dd0>"
            ]
          },
          "metadata": {
            "tags": []
          },
          "execution_count": 40
        },
        {
          "output_type": "display_data",
          "data": {
            "image/png": "[encoded data removed]",
            "text/plain": [
              "<Figure size 720x360 with 1 Axes>"
            ]
          },
          "metadata": {
            "tags": [],
            "needs_background": "light"
          }
        }
      ]
    },
    {
      "cell_type": "markdown",
      "metadata": {
        "id": "psRZu2CDRlP3"
      },
      "source": [
        "###Modeling"
      ]
    },
    {
      "cell_type": "code",
      "metadata": {
        "colab": {
          "base_uri": "https://localhost:8080/"
        },
        "id": "gg7RggbCvcPN",
        "outputId": "b89d0cf7-5162-48c3-8e46-90dcb428f158"
      },
      "source": [
        "MSFT_Auto_ARIMA_Model = auto_arima(MSFT_Train_Data['log Adj. Close'], seasonal = False,\r\n",
        "                                   error_action = 'ignore', suppress_warnings = True)\r\n",
        "print(MSFT_Auto_ARIMA_Model.summary())"
      ],
      "execution_count": 41,
      "outputs": [
        {
          "output_type": "stream",
          "text": [
            "                               SARIMAX Results                                \n",
            "==============================================================================\n",
            "Dep. Variable:                      y   No. Observations:                 1447\n",
            "Model:               SARIMAX(1, 1, 0)   Log Likelihood                3828.056\n",
            "Date:                Wed, 03 Mar 2021   AIC                          -7650.112\n",
            "Time:                        09:14:01   BIC                          -7634.282\n",
            "Sample:                             0   HQIC                         -7644.204\n",
            "                               - 1447                                         \n",
            "Covariance Type:                  opg                                         \n",
            "==============================================================================\n",
            "                 coef    std err          z      P>|z|      [0.025      0.975]\n",
            "------------------------------------------------------------------------------\n",
            "intercept      0.0014      0.000      2.995      0.003       0.000       0.002\n",
            "ar.L1         -0.2169      0.012    -18.786      0.000      -0.239      -0.194\n",
            "sigma2         0.0003   5.01e-06     58.650      0.000       0.000       0.000\n",
            "===================================================================================\n",
            "Ljung-Box (L1) (Q):                   0.01   Jarque-Bera (JB):              4743.33\n",
            "Prob(Q):                              0.93   Prob(JB):                         0.00\n",
            "Heteroskedasticity (H):               1.58   Skew:                            -0.35\n",
            "Prob(H) (two-sided):                  0.00   Kurtosis:                        11.85\n",
            "===================================================================================\n",
            "\n",
            "Warnings:\n",
            "[1] Covariance matrix calculated using the outer product of gradients (complex-step).\n"
          ],
          "name": "stdout"
        }
      ]
    },
    {
      "cell_type": "code",
      "metadata": {
        "colab": {
          "base_uri": "https://localhost:8080/"
        },
        "id": "BPLIuK-CvqJy",
        "outputId": "d99230ae-d46b-476b-dd2f-18d19f503788"
      },
      "source": [
        "MSFT_ARIMA_Model = ARIMA(MSFT_Train_Data['log Adj. Close'], order = (1, 1, 0))\r\n",
        "MSFT_ARIMA_Model_Fit = MSFT_ARIMA_Model.fit()\r\n",
        "print(MSFT_ARIMA_Model_Fit.summary())"
      ],
      "execution_count": 42,
      "outputs": [
        {
          "output_type": "stream",
          "text": [
            "                             ARIMA Model Results                              \n",
            "==============================================================================\n",
            "Dep. Variable:       D.log Adj. Close   No. Observations:                 1446\n",
            "Model:                 ARIMA(1, 1, 0)   Log Likelihood                3828.056\n",
            "Method:                       css-mle   S.D. of innovations              0.017\n",
            "Date:                Wed, 03 Mar 2021   AIC                          -7650.112\n",
            "Time:                        09:14:01   BIC                          -7634.283\n",
            "Sample:                             1   HQIC                         -7644.204\n",
            "                                                                              \n",
            "==========================================================================================\n",
            "                             coef    std err          z      P>|z|      [0.025      0.975]\n",
            "------------------------------------------------------------------------------------------\n",
            "const                      0.0011      0.000      3.022      0.003       0.000       0.002\n",
            "ar.L1.D.log Adj. Close    -0.2168      0.026     -8.445      0.000      -0.267      -0.166\n",
            "                                    Roots                                    \n",
            "=============================================================================\n",
            "                  Real          Imaginary           Modulus         Frequency\n",
            "-----------------------------------------------------------------------------\n",
            "AR.1           -4.6131           +0.0000j            4.6131            0.5000\n",
            "-----------------------------------------------------------------------------\n"
          ],
          "name": "stdout"
        }
      ]
    },
    {
      "cell_type": "markdown",
      "metadata": {
        "id": "K_45tUmFNFWt"
      },
      "source": [
        "###Predicting the closing stock price of Microsoft"
      ]
    },
    {
      "cell_type": "code",
      "metadata": {
        "colab": {
          "base_uri": "https://localhost:8080/",
          "height": 351
        },
        "id": "sAKpYMxXvybd",
        "outputId": "1666fba7-4809-4154-d793-a16aeb93a42b"
      },
      "source": [
        "MSFT_output = MSFT_ARIMA_Model_Fit.forecast(102, alpha=0.05)\r\n",
        "MSFT_predictions = np.exp(MSFT_output[0])\r\n",
        "plt.figure(figsize=(10, 5))\r\n",
        "plt.plot(MSFT_Train_Data['Date'], MSFT_Train_Data['Adj. Close'], label = 'Training')\r\n",
        "plt.plot(MSFT_Test_Data['Date'], MSFT_Test_Data['Adj. Close'], label = 'Testing')\r\n",
        "plt.plot(MSFT_Test_Data['Date'], MSFT_predictions, label = 'Predictions')\r\n",
        "plt.xlabel('Time')\r\n",
        "plt.ylabel('Closing Price')\r\n",
        "plt.legend()"
      ],
      "execution_count": 43,
      "outputs": [
        {
          "output_type": "execute_result",
          "data": {
            "text/plain": [
              "<matplotlib.legend.Legend at 0x7ff618fb8190>"
            ]
          },
          "metadata": {
            "tags": []
          },
          "execution_count": 43
        },
        {
          "output_type": "display_data",
          "data": {
            "image/png": "[encoded data removed]",
            "text/plain": [
              "<Figure size 720x360 with 1 Axes>"
            ]
          },
          "metadata": {
            "tags": [],
            "needs_background": "light"
          }
        }
      ]
    },
    {
      "cell_type": "code",
      "metadata": {
        "colab": {
          "base_uri": "https://localhost:8080/"
        },
        "id": "9b1MDWjNv-Aj",
        "outputId": "790d4b91-d085-4b3d-fbcc-ba23e46bc247"
      },
      "source": [
        "rmse = math.sqrt(mean_squared_error(MSFT_Test_Data['Adj. Close'], MSFT_predictions))\r\n",
        "mape = np.mean(np.abs(MSFT_predictions - MSFT_Test_Data['Adj. Close'])/np.abs(MSFT_Test_Data['Adj. Close']))\r\n",
        "\r\n",
        "print(f'RMSE: {rmse}')\r\n",
        "print(f'MAPE: {mape}')"
      ],
      "execution_count": 44,
      "outputs": [
        {
          "output_type": "stream",
          "text": [
            "RMSE: 7.269511877014612\n",
            "MAPE: 0.027081038152935593\n"
          ],
          "name": "stdout"
        }
      ]
    },
    {
      "cell_type": "markdown",
      "metadata": {
        "id": "b2PZvGA2zLPq"
      },
      "source": [
        "#Amazon"
      ]
    },
    {
      "cell_type": "code",
      "metadata": {
        "colab": {
          "base_uri": "https://localhost:8080/",
          "height": 195
        },
        "id": "YFUiwuB8wQcT",
        "outputId": "ca5f7906-326c-425b-df92-17ecc97aae0f"
      },
      "source": [
        "AMZN.head()"
      ],
      "execution_count": 45,
      "outputs": [
        {
          "output_type": "execute_result",
          "data": {
            "text/html": [
              "<div>\n",
              "<style scoped>\n",
              "    .dataframe tbody tr th:only-of-type {\n",
              "        vertical-align: middle;\n",
              "    }\n",
              "\n",
              "    .dataframe tbody tr th {\n",
              "        vertical-align: top;\n",
              "    }\n",
              "\n",
              "    .dataframe thead th {\n",
              "        text-align: right;\n",
              "    }\n",
              "</style>\n",
              "<table border=\"1\" class=\"dataframe\">\n",
              "  <thead>\n",
              "    <tr style=\"text-align: right;\">\n",
              "      <th></th>\n",
              "      <th>Date</th>\n",
              "      <th>Open</th>\n",
              "      <th>High</th>\n",
              "      <th>Low</th>\n",
              "      <th>Close</th>\n",
              "      <th>Adj. Close</th>\n",
              "      <th>Volume</th>\n",
              "    </tr>\n",
              "  </thead>\n",
              "  <tbody>\n",
              "    <tr>\n",
              "      <th>0</th>\n",
              "      <td>2015-01-02</td>\n",
              "      <td>312.58</td>\n",
              "      <td>314.75</td>\n",
              "      <td>306.96</td>\n",
              "      <td>308.52</td>\n",
              "      <td>308.52</td>\n",
              "      <td>2783200.0</td>\n",
              "    </tr>\n",
              "    <tr>\n",
              "      <th>1</th>\n",
              "      <td>2015-01-05</td>\n",
              "      <td>307.01</td>\n",
              "      <td>308.38</td>\n",
              "      <td>300.85</td>\n",
              "      <td>302.19</td>\n",
              "      <td>302.19</td>\n",
              "      <td>2774200.0</td>\n",
              "    </tr>\n",
              "    <tr>\n",
              "      <th>2</th>\n",
              "      <td>2015-01-06</td>\n",
              "      <td>302.24</td>\n",
              "      <td>303.00</td>\n",
              "      <td>292.38</td>\n",
              "      <td>295.29</td>\n",
              "      <td>295.29</td>\n",
              "      <td>3519000.0</td>\n",
              "    </tr>\n",
              "    <tr>\n",
              "      <th>3</th>\n",
              "      <td>2015-01-07</td>\n",
              "      <td>297.50</td>\n",
              "      <td>301.28</td>\n",
              "      <td>295.33</td>\n",
              "      <td>298.42</td>\n",
              "      <td>298.42</td>\n",
              "      <td>2640300.0</td>\n",
              "    </tr>\n",
              "    <tr>\n",
              "      <th>4</th>\n",
              "      <td>2015-01-08</td>\n",
              "      <td>300.32</td>\n",
              "      <td>303.14</td>\n",
              "      <td>296.11</td>\n",
              "      <td>300.46</td>\n",
              "      <td>300.46</td>\n",
              "      <td>3088400.0</td>\n",
              "    </tr>\n",
              "  </tbody>\n",
              "</table>\n",
              "</div>"
            ],
            "text/plain": [
              "         Date    Open    High     Low   Close  Adj. Close     Volume\n",
              "0  2015-01-02  312.58  314.75  306.96  308.52      308.52  2783200.0\n",
              "1  2015-01-05  307.01  308.38  300.85  302.19      302.19  2774200.0\n",
              "2  2015-01-06  302.24  303.00  292.38  295.29      295.29  3519000.0\n",
              "3  2015-01-07  297.50  301.28  295.33  298.42      298.42  2640300.0\n",
              "4  2015-01-08  300.32  303.14  296.11  300.46      300.46  3088400.0"
            ]
          },
          "metadata": {
            "tags": []
          },
          "execution_count": 45
        }
      ]
    },
    {
      "cell_type": "code",
      "metadata": {
        "colab": {
          "base_uri": "https://localhost:8080/"
        },
        "id": "CZw66OsHwYSX",
        "outputId": "bccc89be-8bb4-4492-c96a-48eef0c8b6c8"
      },
      "source": [
        "AMZN.info()"
      ],
      "execution_count": 46,
      "outputs": [
        {
          "output_type": "stream",
          "text": [
            "<class 'pandas.core.frame.DataFrame'>\n",
            "RangeIndex: 1549 entries, 0 to 1548\n",
            "Data columns (total 7 columns):\n",
            " #   Column      Non-Null Count  Dtype  \n",
            "---  ------      --------------  -----  \n",
            " 0   Date        1549 non-null   object \n",
            " 1   Open        1549 non-null   float64\n",
            " 2   High        1549 non-null   float64\n",
            " 3   Low         1549 non-null   float64\n",
            " 4   Close       1549 non-null   float64\n",
            " 5   Adj. Close  1549 non-null   float64\n",
            " 6   Volume      1549 non-null   float64\n",
            "dtypes: float64(6), object(1)\n",
            "memory usage: 84.8+ KB\n"
          ],
          "name": "stdout"
        }
      ]
    },
    {
      "cell_type": "code",
      "metadata": {
        "id": "GaElbNDDwZg1"
      },
      "source": [
        "# Change Dtype of Date column\r\n",
        "AMZN[\"Date\"] = pd.to_datetime(AMZN[\"Date\"])"
      ],
      "execution_count": 47,
      "outputs": []
    },
    {
      "cell_type": "code",
      "metadata": {
        "colab": {
          "base_uri": "https://localhost:8080/"
        },
        "id": "SmSimPQ7wfHt",
        "outputId": "5a6963ee-3835-4ecb-d3ea-b29e76f65809"
      },
      "source": [
        "Test_Stationarity(AMZN)"
      ],
      "execution_count": 48,
      "outputs": [
        {
          "output_type": "stream",
          "text": [
            "Results of Dickey Fuller Test\n",
            "Test Statistics: 0.2703409634404918\n",
            "p-value: 0.9759420712303004\n",
            "Number of lags used: 18\n",
            "Number of observations used: 1530\n",
            "critical value (1%): -3.434631245212095\n",
            "critical value (5%): -2.8634309048528066\n",
            "critical value (10%): -2.5677766901619035\n"
          ],
          "name": "stdout"
        }
      ]
    },
    {
      "cell_type": "markdown",
      "metadata": {
        "id": "2TpUEFcJKi5k"
      },
      "source": [
        "The p-value > 0.05, so we cannot reject the Null hypothesis. Hence, we would need to use the “Integrated (I)” concept, denoted by value ‘d’ in time series, to make the data stationary while building the Auto ARIMA model."
      ]
    },
    {
      "cell_type": "markdown",
      "metadata": {
        "id": "LeSztRY0LyPV"
      },
      "source": [
        "Now let's take log of the 'Adj. Close' column to reduce the magnitude of the values and reduce the series rising trend."
      ]
    },
    {
      "cell_type": "code",
      "metadata": {
        "colab": {
          "base_uri": "https://localhost:8080/",
          "height": 367
        },
        "id": "3i94PqZNwkgd",
        "outputId": "0a7549fd-d6bb-4bb5-87af-22e07f371814"
      },
      "source": [
        "AMZN['log Adj. Close'] = np.log(AMZN['Adj. Close'])\r\n",
        "AMZN_log_moving_avg = AMZN['log Adj. Close'].rolling(12).mean()\r\n",
        "AMZN_log_std = AMZN['log Adj. Close'].rolling(12).std()\r\n",
        "\r\n",
        "plt.figure(figsize = (10, 5))\r\n",
        "plt.plot(AMZN['Date'], AMZN_log_moving_avg, label = \"Rolling Mean\")\r\n",
        "plt.plot(AMZN['Date'], AMZN_log_std, label = \"Rolling Std\")\r\n",
        "plt.xlabel('Time')\r\n",
        "plt.ylabel('log Adj. Close')\r\n",
        "plt.legend(loc = 'best')\r\n",
        "plt.title(\"Rolling Mean and Standard Deviation\")"
      ],
      "execution_count": 49,
      "outputs": [
        {
          "output_type": "execute_result",
          "data": {
            "text/plain": [
              "Text(0.5, 1.0, 'Rolling Mean and Standard Deviation')"
            ]
          },
          "metadata": {
            "tags": []
          },
          "execution_count": 49
        },
        {
          "output_type": "display_data",
          "data": {
            "image/png": "[encoded data removed]",
            "text/plain": [
              "<Figure size 720x360 with 1 Axes>"
            ]
          },
          "metadata": {
            "tags": [],
            "needs_background": "light"
          }
        }
      ]
    },
    {
      "cell_type": "markdown",
      "metadata": {
        "id": "0K0pUngEMbo9"
      },
      "source": [
        "###Split the data into training and test set\r\n",
        "    Training Period: 2015-01-02 - 2020-10-30\r\n",
        "\r\n",
        "    Testing Period:  2020-11-02 - 2021-02-26"
      ]
    },
    {
      "cell_type": "code",
      "metadata": {
        "colab": {
          "base_uri": "https://localhost:8080/",
          "height": 351
        },
        "id": "XSQ_FNdOw0z2",
        "outputId": "259e0f61-18af-45c8-8f19-949ebe7b9d09"
      },
      "source": [
        "AMZN_Train_Data = AMZN[AMZN['Date'] < '2020-11-01']\r\n",
        "AMZN_Test_Data = AMZN[AMZN['Date'] >= '2020-11-01'].reset_index(drop = True)\r\n",
        "\r\n",
        "plt.figure(figsize = (10, 5))\r\n",
        "plt.plot(AMZN_Train_Data['Date'], AMZN_Train_Data['log Adj. Close'], label = 'Train Data')\r\n",
        "plt.plot(AMZN_Test_Data['Date'], AMZN_Test_Data['log Adj. Close'], label = 'Test Data')\r\n",
        "plt.xlabel('Time')\r\n",
        "plt.ylabel('log Adj. Close')\r\n",
        "plt.legend(loc = 'best')"
      ],
      "execution_count": 50,
      "outputs": [
        {
          "output_type": "execute_result",
          "data": {
            "text/plain": [
              "<matplotlib.legend.Legend at 0x7ff618ced7d0>"
            ]
          },
          "metadata": {
            "tags": []
          },
          "execution_count": 50
        },
        {
          "output_type": "display_data",
          "data": {
            "image/png": "[encoded data removed]",
            "text/plain": [
              "<Figure size 720x360 with 1 Axes>"
            ]
          },
          "metadata": {
            "tags": [],
            "needs_background": "light"
          }
        }
      ]
    },
    {
      "cell_type": "markdown",
      "metadata": {
        "id": "5Qm9bCGQRoxZ"
      },
      "source": [
        "###Modeling"
      ]
    },
    {
      "cell_type": "code",
      "metadata": {
        "colab": {
          "base_uri": "https://localhost:8080/"
        },
        "id": "doJ6f30axHK_",
        "outputId": "5f7083a8-bcec-4257-bb70-cfeb9834f411"
      },
      "source": [
        "AMZN_Auto_ARIMA_Model = auto_arima(AMZN_Train_Data['log Adj. Close'], seasonal = False,\r\n",
        "                                   error_action = 'ignore', suppress_warnings = True)\r\n",
        "print(AMZN_Auto_ARIMA_Model.summary())"
      ],
      "execution_count": 51,
      "outputs": [
        {
          "output_type": "stream",
          "text": [
            "                               SARIMAX Results                                \n",
            "==============================================================================\n",
            "Dep. Variable:                      y   No. Observations:                 1469\n",
            "Model:               SARIMAX(0, 1, 0)   Log Likelihood                3704.612\n",
            "Date:                Wed, 03 Mar 2021   AIC                          -7405.225\n",
            "Time:                        09:14:06   BIC                          -7394.641\n",
            "Sample:                             0   HQIC                         -7401.278\n",
            "                               - 1469                                         \n",
            "Covariance Type:                  opg                                         \n",
            "==============================================================================\n",
            "                 coef    std err          z      P>|z|      [0.025      0.975]\n",
            "------------------------------------------------------------------------------\n",
            "intercept      0.0016      0.001      3.025      0.002       0.001       0.003\n",
            "sigma2         0.0004   6.92e-06     54.419      0.000       0.000       0.000\n",
            "===================================================================================\n",
            "Ljung-Box (L1) (Q):                   1.40   Jarque-Bera (JB):              2529.69\n",
            "Prob(Q):                              0.24   Prob(JB):                         0.00\n",
            "Heteroskedasticity (H):               1.14   Skew:                             0.52\n",
            "Prob(H) (two-sided):                  0.15   Kurtosis:                         9.34\n",
            "===================================================================================\n",
            "\n",
            "Warnings:\n",
            "[1] Covariance matrix calculated using the outer product of gradients (complex-step).\n"
          ],
          "name": "stdout"
        }
      ]
    },
    {
      "cell_type": "code",
      "metadata": {
        "colab": {
          "base_uri": "https://localhost:8080/"
        },
        "id": "orJs2sk7xY1s",
        "outputId": "c09871ca-37da-4c83-e659-edc82083e94f"
      },
      "source": [
        "AMZN_ARIMA_Model = ARIMA(AMZN_Train_Data['log Adj. Close'], order = (0, 1, 0))\r\n",
        "AMZN_ARIMA_Model_Fit = AMZN_ARIMA_Model.fit()\r\n",
        "print(AMZN_ARIMA_Model_Fit.summary())"
      ],
      "execution_count": 52,
      "outputs": [
        {
          "output_type": "stream",
          "text": [
            "                             ARIMA Model Results                              \n",
            "==============================================================================\n",
            "Dep. Variable:       D.log Adj. Close   No. Observations:                 1468\n",
            "Model:                 ARIMA(0, 1, 0)   Log Likelihood                3704.612\n",
            "Method:                           css   S.D. of innovations              0.019\n",
            "Date:                Wed, 03 Mar 2021   AIC                          -7405.225\n",
            "Time:                        09:14:06   BIC                          -7394.641\n",
            "Sample:                             1   HQIC                         -7401.278\n",
            "                                                                              \n",
            "==============================================================================\n",
            "                 coef    std err          z      P>|z|      [0.025      0.975]\n",
            "------------------------------------------------------------------------------\n",
            "const          0.0016      0.001      3.076      0.002       0.001       0.003\n",
            "==============================================================================\n"
          ],
          "name": "stdout"
        }
      ]
    },
    {
      "cell_type": "markdown",
      "metadata": {
        "id": "MW8Hh1mENILx"
      },
      "source": [
        "###Predicting the closing stock price of Amazon"
      ]
    },
    {
      "cell_type": "code",
      "metadata": {
        "colab": {
          "base_uri": "https://localhost:8080/",
          "height": 351
        },
        "id": "8ApmgHP-xhQX",
        "outputId": "5bb3d842-7bd2-4e1b-a123-335c9e4d5719"
      },
      "source": [
        "AMZN_output = AMZN_ARIMA_Model_Fit.forecast(80, alpha=0.05)\r\n",
        "AMZN_predictions = np.exp(AMZN_output[0])\r\n",
        "plt.figure(figsize=(10, 5))\r\n",
        "plt.plot(AMZN_Train_Data['Date'], AMZN_Train_Data['Adj. Close'], label = 'Training')\r\n",
        "plt.plot(AMZN_Test_Data['Date'], AMZN_Test_Data['Adj. Close'], label = 'Testing')\r\n",
        "plt.plot(AMZN_Test_Data['Date'], AMZN_predictions, label = 'Predictions')\r\n",
        "plt.xlabel('Time')\r\n",
        "plt.ylabel('Closing Price')\r\n",
        "plt.legend()"
      ],
      "execution_count": 53,
      "outputs": [
        {
          "output_type": "execute_result",
          "data": {
            "text/plain": [
              "<matplotlib.legend.Legend at 0x7ff618c34dd0>"
            ]
          },
          "metadata": {
            "tags": []
          },
          "execution_count": 53
        },
        {
          "output_type": "display_data",
          "data": {
            "image/png": "[encoded data removed]",
            "text/plain": [
              "<Figure size 720x360 with 1 Axes>"
            ]
          },
          "metadata": {
            "tags": [],
            "needs_background": "light"
          }
        }
      ]
    },
    {
      "cell_type": "code",
      "metadata": {
        "colab": {
          "base_uri": "https://localhost:8080/"
        },
        "id": "86FDrtlTxuVH",
        "outputId": "a1115ce1-bafd-4bd1-f7a5-9dc630bb1e42"
      },
      "source": [
        "rmse = math.sqrt(mean_squared_error(AMZN_Test_Data['Adj. Close'], AMZN_predictions))\r\n",
        "mape = np.mean(np.abs(AMZN_predictions - AMZN_Test_Data['Adj. Close'])/np.abs(AMZN_Test_Data['Adj. Close']))\r\n",
        "\r\n",
        "print(f'RMSE: {rmse}')\r\n",
        "print(f'MAPE: {mape}')"
      ],
      "execution_count": 54,
      "outputs": [
        {
          "output_type": "stream",
          "text": [
            "RMSE: 113.18558052462348\n",
            "MAPE: 0.02500054538949603\n"
          ],
          "name": "stdout"
        }
      ]
    }
  ]
}